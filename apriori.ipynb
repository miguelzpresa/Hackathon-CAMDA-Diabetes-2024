{
 "cells": [
  {
   "cell_type": "code",
   "execution_count": 7,
   "metadata": {},
   "outputs": [
    {
     "name": "stdout",
     "output_type": "stream",
     "text": [
      "Channels:\n",
      " - conda-forge\n",
      " - defaults\n",
      "Platform: linux-64\n",
      "Collecting package metadata (repodata.json): - ^C\n",
      "Channels:\n",
      " - defaults\n",
      " - conda-forge\n",
      "Platform: linux-64\n",
      "Collecting package metadata (repodata.json): done\n",
      "Solving environment: - "
     ]
    }
   ],
   "source": [
    "!conda install -c conda-forge mlxtend --yes\n",
    "!conda install seaborn --yes"
   ]
  },
  {
   "cell_type": "code",
   "execution_count": 1,
   "metadata": {},
   "outputs": [],
   "source": [
    "import mlxtend\n",
    "from mlxtend.frequent_patterns import apriori\n",
    "from mlxtend.frequent_patterns import association_rules\n",
    "import pandas as pd\n",
    "import matplotlib.pyplot as plt\n",
    "import seaborn as sns\n"
   ]
  },
  {
   "cell_type": "code",
   "execution_count": 2,
   "metadata": {},
   "outputs": [],
   "source": [
    "#df con duplicados\n",
    "#dfc = pd.read_csv('datasets/eHRs-gen2-aggregated-1y.csv', encoding='latin1',usecols=[0,1,2,3])\n",
    "dfc = pd.read_csv('datasets/eHRs-gen2-aggregated-1y.csv', encoding='latin1')"
   ]
  },
  {
   "cell_type": "code",
   "execution_count": null,
   "metadata": {},
   "outputs": [
    {
     "data": {
      "text/plain": [
       "(2100990, 91)"
      ]
     },
     "execution_count": 119,
     "metadata": {},
     "output_type": "execute_result"
    }
   ],
   "source": [
    "dfc.shape\n",
    "#2 millones 100mil"
   ]
  },
  {
   "cell_type": "code",
   "execution_count": 3,
   "metadata": {},
   "outputs": [
    {
     "data": {
      "text/plain": [
       "(860983, 93)"
      ]
     },
     "execution_count": 3,
     "metadata": {},
     "output_type": "execute_result"
    }
   ],
   "source": [
    "df = dfc.drop_duplicates(subset=\"p_id\")\n",
    "df.shape\n",
    "#860 mil"
   ]
  },
  {
   "cell_type": "code",
   "execution_count": 4,
   "metadata": {},
   "outputs": [],
   "source": [
    "dfc['v_o_id']= dfc['v_o_id'].astype(str).str.split('_').str.get(1).astype(int)"
   ]
  },
  {
   "cell_type": "code",
   "execution_count": 10,
   "metadata": {},
   "outputs": [],
   "source": [
    "df3 = dfc.iloc[:,4:]\n",
    "df3 = df3.fillna(0)"
   ]
  },
  {
   "cell_type": "markdown",
   "metadata": {},
   "source": [
    "# EDA por visita"
   ]
  },
  {
   "cell_type": "code",
   "execution_count": 57,
   "metadata": {},
   "outputs": [
    {
     "data": {
      "text/plain": [
       "Index(['p_id', 'age', 'v_o_id', 'sex', 'F40-F41', 'I20-I25', 'E10-E14',\n",
       "       'I10-I15', 'E78', 'F17', 'J45', 'F20', 'M15-M19', 'I50', 'N18', 'E66',\n",
       "       'K76.0', 'I34-I38', 'C55', 'H35', 'E03', 'G80-G83', 'F09', 'M10', 'M13',\n",
       "       'G20', 'L40', 'I71', 'I48', 'G25', 'F10', 'K90.4', 'F01-F03', 'N20',\n",
       "       'F50', 'I60-I64', 'K21', 'J44', 'F48', 'G45', 'C61', 'F70-F79', 'I69',\n",
       "       'K73', 'I70', 'F30-F39', 'C34', 'I65', 'C25', 'M81', 'H40-H42', 'C50',\n",
       "       'K50-K51', 'M79.7', 'C18-C20', 'C67', 'F90-F98', 'L20', 'M05-M06',\n",
       "       'C88', 'K74', 'C81', 'M30-M31', 'C64-C65', 'F60-F69', 'C22', 'G40-G41',\n",
       "       'Q20-Q28', 'I74', 'I67-I69', 'C82-C85', 'C56', 'C14', 'H35.3', 'B20',\n",
       "       'C16', 'F19', 'F89', 'C43', 'F84', 'C62', 'C91-C95', 'C53', 'C46',\n",
       "       'C73', 'C40-C41', 'Z89', 'pred1y_I20-I25', 'pred1y_H35', 'pred1y_N18',\n",
       "       'pred1y_Z89', 'age_group'],\n",
       "      dtype='object')"
      ]
     },
     "execution_count": 57,
     "metadata": {},
     "output_type": "execute_result"
    }
   ],
   "source": [
    "df.columns"
   ]
  },
  {
   "cell_type": "code",
   "execution_count": 6,
   "metadata": {},
   "outputs": [
    {
     "name": "stdout",
     "output_type": "stream",
     "text": [
      "[0.5038519924319064, 0.4504072670424387, 0.04574074052565498]\n"
     ]
    },
    {
     "data": {
      "text/plain": [
       "([<matplotlib.patches.Wedge at 0x7f800dc372e0>,\n",
       "  <matplotlib.patches.Wedge at 0x7f800dc37220>,\n",
       "  <matplotlib.patches.Wedge at 0x7f800dc37fd0>],\n",
       " [Text(-0.013311265265506796, 1.0999194562407884, 'M'),\n",
       "  Text(-0.14433955168050241, -1.0904889242081608, 'F'),\n",
       "  Text(1.0886624114823256, -0.1575250895111246, 'N')],\n",
       " [Text(-0.007260690144821888, 0.5999560670404299, '50.4%'),\n",
       "  Text(-0.07873066455300132, -0.5948121404771786, '45.0%'),\n",
       "  Text(0.5938158608085411, -0.08592277609697704, '4.6%')])"
      ]
     },
     "execution_count": 6,
     "metadata": {},
     "output_type": "execute_result"
    },
    {
     "data": {
      "image/png": "[encoded data removed]",
      "text/plain": [
       "<Figure size 640x480 with 1 Axes>"
      ]
     },
     "metadata": {},
     "output_type": "display_data"
    }
   ],
   "source": [
    "sex_percent = list(df.sex.value_counts(normalize=True))\n",
    "print(sex_percent)\n",
    "plt.pie(sex_percent, labels=['M','F','N'], autopct='%1.1f%%')\n"
   ]
  },
  {
   "cell_type": "code",
   "execution_count": 8,
   "metadata": {},
   "outputs": [
    {
     "name": "stderr",
     "output_type": "stream",
     "text": [
      "/tmp/ipykernel_5245/2042298879.py:2: SettingWithCopyWarning: \n",
      "A value is trying to be set on a copy of a slice from a DataFrame.\n",
      "Try using .loc[row_indexer,col_indexer] = value instead\n",
      "\n",
      "See the caveats in the documentation: https://pandas.pydata.org/pandas-docs/stable/user_guide/indexing.html#returning-a-view-versus-a-copy\n",
      "  df['v_o_id']= df['v_o_id'].astype(str).str.split('_').str.get(1).astype(int)\n"
     ]
    },
    {
     "data": {
      "text/plain": [
       "v_o_id\n",
       "1     318979\n",
       "2     287336\n",
       "3     160216\n",
       "4      63233\n",
       "5      21243\n",
       "6       6756\n",
       "7       2159\n",
       "8        661\n",
       "9        367\n",
       "10        12\n",
       "12         6\n",
       "11         4\n",
       "17         3\n",
       "13         3\n",
       "15         2\n",
       "14         2\n",
       "0          1\n",
       "Name: count, dtype: int64"
      ]
     },
     "execution_count": 8,
     "metadata": {},
     "output_type": "execute_result"
    }
   ],
   "source": [
    "#df[df.].duplicated().value_counts()\n",
    "df['v_o_id']= df['v_o_id'].astype(str).str.split('_').str.get(1).astype(int)\n",
    "df['v_o_id'].value_counts()"
   ]
  },
  {
   "cell_type": "code",
   "execution_count": 93,
   "metadata": {},
   "outputs": [
    {
     "data": {
      "text/html": [
       "<div>\n",
       "<style scoped>\n",
       "    .dataframe tbody tr th:only-of-type {\n",
       "        vertical-align: middle;\n",
       "    }\n",
       "\n",
       "    .dataframe tbody tr th {\n",
       "        vertical-align: top;\n",
       "    }\n",
       "\n",
       "    .dataframe thead th {\n",
       "        text-align: right;\n",
       "    }\n",
       "</style>\n",
       "<table border=\"1\" class=\"dataframe\">\n",
       "  <thead>\n",
       "    <tr style=\"text-align: right;\">\n",
       "      <th></th>\n",
       "      <th>p_id</th>\n",
       "      <th>age</th>\n",
       "      <th>v_o_id</th>\n",
       "      <th>sex</th>\n",
       "    </tr>\n",
       "  </thead>\n",
       "  <tbody>\n",
       "    <tr>\n",
       "      <th>1</th>\n",
       "      <td>0</td>\n",
       "      <td>71</td>\n",
       "      <td>3</td>\n",
       "      <td>U</td>\n",
       "    </tr>\n",
       "    <tr>\n",
       "      <th>2</th>\n",
       "      <td>0</td>\n",
       "      <td>73</td>\n",
       "      <td>6</td>\n",
       "      <td>U</td>\n",
       "    </tr>\n",
       "    <tr>\n",
       "      <th>3</th>\n",
       "      <td>0</td>\n",
       "      <td>78</td>\n",
       "      <td>9</td>\n",
       "      <td>U</td>\n",
       "    </tr>\n",
       "    <tr>\n",
       "      <th>4</th>\n",
       "      <td>0</td>\n",
       "      <td>81</td>\n",
       "      <td>10</td>\n",
       "      <td>U</td>\n",
       "    </tr>\n",
       "    <tr>\n",
       "      <th>6</th>\n",
       "      <td>1</td>\n",
       "      <td>76</td>\n",
       "      <td>2</td>\n",
       "      <td>M</td>\n",
       "    </tr>\n",
       "    <tr>\n",
       "      <th>...</th>\n",
       "      <td>...</td>\n",
       "      <td>...</td>\n",
       "      <td>...</td>\n",
       "      <td>...</td>\n",
       "    </tr>\n",
       "    <tr>\n",
       "      <th>2100965</th>\n",
       "      <td>999884</td>\n",
       "      <td>71</td>\n",
       "      <td>3</td>\n",
       "      <td>M</td>\n",
       "    </tr>\n",
       "    <tr>\n",
       "      <th>2100969</th>\n",
       "      <td>999891</td>\n",
       "      <td>90</td>\n",
       "      <td>2</td>\n",
       "      <td>F</td>\n",
       "    </tr>\n",
       "    <tr>\n",
       "      <th>2100970</th>\n",
       "      <td>999892</td>\n",
       "      <td>54</td>\n",
       "      <td>2</td>\n",
       "      <td>F</td>\n",
       "    </tr>\n",
       "    <tr>\n",
       "      <th>2100972</th>\n",
       "      <td>999893</td>\n",
       "      <td>57</td>\n",
       "      <td>2</td>\n",
       "      <td>F</td>\n",
       "    </tr>\n",
       "    <tr>\n",
       "      <th>2100976</th>\n",
       "      <td>999901</td>\n",
       "      <td>42</td>\n",
       "      <td>2</td>\n",
       "      <td>M</td>\n",
       "    </tr>\n",
       "  </tbody>\n",
       "</table>\n",
       "<p>1744422 rows × 4 columns</p>\n",
       "</div>"
      ],
      "text/plain": [
       "           p_id  age  v_o_id sex\n",
       "1             0   71       3   U\n",
       "2             0   73       6   U\n",
       "3             0   78       9   U\n",
       "4             0   81      10   U\n",
       "6             1   76       2   M\n",
       "...         ...  ...     ...  ..\n",
       "2100965  999884   71       3   M\n",
       "2100969  999891   90       2   F\n",
       "2100970  999892   54       2   F\n",
       "2100972  999893   57       2   F\n",
       "2100976  999901   42       2   M\n",
       "\n",
       "[1744422 rows x 4 columns]"
      ]
     },
     "execution_count": 93,
     "metadata": {},
     "output_type": "execute_result"
    }
   ],
   "source": [
    "#df['v_o_id'] = df['v_o_id'].astype(int)\n",
    "#df['bloque1_visitas'] = df['v_o_id'] <=10\n",
    "#df['bloque2_visitas'] = df['v_o_id'] >=10\n",
    "bloque1_visitas= df[(df['v_o_id'] >1) & (df['v_o_id'] <=10)]\n",
    "bloque1_visitas"
   ]
  },
  {
   "cell_type": "code",
   "execution_count": 80,
   "metadata": {},
   "outputs": [
    {
     "data": {
      "text/html": [
       "<div>\n",
       "<style scoped>\n",
       "    .dataframe tbody tr th:only-of-type {\n",
       "        vertical-align: middle;\n",
       "    }\n",
       "\n",
       "    .dataframe tbody tr th {\n",
       "        vertical-align: top;\n",
       "    }\n",
       "\n",
       "    .dataframe thead tr th {\n",
       "        text-align: left;\n",
       "    }\n",
       "\n",
       "    .dataframe thead tr:last-of-type th {\n",
       "        text-align: right;\n",
       "    }\n",
       "</style>\n",
       "<table border=\"1\" class=\"dataframe\">\n",
       "  <thead>\n",
       "    <tr>\n",
       "      <th></th>\n",
       "      <th colspan=\"9\" halign=\"left\">age</th>\n",
       "    </tr>\n",
       "    <tr>\n",
       "      <th>v_o_id</th>\n",
       "      <th>2</th>\n",
       "      <th>3</th>\n",
       "      <th>4</th>\n",
       "      <th>5</th>\n",
       "      <th>6</th>\n",
       "      <th>7</th>\n",
       "      <th>8</th>\n",
       "      <th>9</th>\n",
       "      <th>10</th>\n",
       "    </tr>\n",
       "    <tr>\n",
       "      <th>sex</th>\n",
       "      <th></th>\n",
       "      <th></th>\n",
       "      <th></th>\n",
       "      <th></th>\n",
       "      <th></th>\n",
       "      <th></th>\n",
       "      <th></th>\n",
       "      <th></th>\n",
       "      <th></th>\n",
       "    </tr>\n",
       "  </thead>\n",
       "  <tbody>\n",
       "    <tr>\n",
       "      <th>F</th>\n",
       "      <td>174478</td>\n",
       "      <td>169461</td>\n",
       "      <td>140808</td>\n",
       "      <td>105493</td>\n",
       "      <td>75838</td>\n",
       "      <td>53727</td>\n",
       "      <td>36613</td>\n",
       "      <td>29009</td>\n",
       "      <td>9870</td>\n",
       "    </tr>\n",
       "    <tr>\n",
       "      <th>M</th>\n",
       "      <td>203804</td>\n",
       "      <td>200109</td>\n",
       "      <td>159572</td>\n",
       "      <td>113505</td>\n",
       "      <td>77576</td>\n",
       "      <td>51013</td>\n",
       "      <td>32314</td>\n",
       "      <td>23513</td>\n",
       "      <td>7880</td>\n",
       "    </tr>\n",
       "    <tr>\n",
       "      <th>U</th>\n",
       "      <td>17280</td>\n",
       "      <td>16568</td>\n",
       "      <td>13372</td>\n",
       "      <td>10234</td>\n",
       "      <td>7794</td>\n",
       "      <td>5768</td>\n",
       "      <td>4147</td>\n",
       "      <td>3442</td>\n",
       "      <td>1234</td>\n",
       "    </tr>\n",
       "  </tbody>\n",
       "</table>\n",
       "</div>"
      ],
      "text/plain": [
       "           age                                                          \n",
       "v_o_id      2       3       4       5      6      7      8      9     10\n",
       "sex                                                                     \n",
       "F       174478  169461  140808  105493  75838  53727  36613  29009  9870\n",
       "M       203804  200109  159572  113505  77576  51013  32314  23513  7880\n",
       "U        17280   16568   13372   10234   7794   5768   4147   3442  1234"
      ]
     },
     "execution_count": 80,
     "metadata": {},
     "output_type": "execute_result"
    }
   ],
   "source": [
    "b1v = bloque1_visitas.groupby(['sex','v_o_id']).count().unstack()\n",
    "#rb1v = b1v.div(bloque1_visitas.groupby(['sex','v_o_id']).count()/100,axis=0)\n",
    "b1v"
   ]
  },
  {
   "cell_type": "code",
   "execution_count": 91,
   "metadata": {},
   "outputs": [
    {
     "data": {
      "text/html": [
       "<div>\n",
       "<style scoped>\n",
       "    .dataframe tbody tr th:only-of-type {\n",
       "        vertical-align: middle;\n",
       "    }\n",
       "\n",
       "    .dataframe tbody tr th {\n",
       "        vertical-align: top;\n",
       "    }\n",
       "\n",
       "    .dataframe thead tr th {\n",
       "        text-align: left;\n",
       "    }\n",
       "\n",
       "    .dataframe thead tr:last-of-type th {\n",
       "        text-align: right;\n",
       "    }\n",
       "</style>\n",
       "<table border=\"1\" class=\"dataframe\">\n",
       "  <thead>\n",
       "    <tr>\n",
       "      <th></th>\n",
       "      <th colspan=\"9\" halign=\"left\">age</th>\n",
       "    </tr>\n",
       "    <tr>\n",
       "      <th>v_o_id</th>\n",
       "      <th>2</th>\n",
       "      <th>3</th>\n",
       "      <th>4</th>\n",
       "      <th>5</th>\n",
       "      <th>6</th>\n",
       "      <th>7</th>\n",
       "      <th>8</th>\n",
       "      <th>9</th>\n",
       "      <th>10</th>\n",
       "    </tr>\n",
       "    <tr>\n",
       "      <th>sex</th>\n",
       "      <th></th>\n",
       "      <th></th>\n",
       "      <th></th>\n",
       "      <th></th>\n",
       "      <th></th>\n",
       "      <th></th>\n",
       "      <th></th>\n",
       "      <th></th>\n",
       "      <th></th>\n",
       "    </tr>\n",
       "  </thead>\n",
       "  <tbody>\n",
       "    <tr>\n",
       "      <th>F</th>\n",
       "      <td>10.002052</td>\n",
       "      <td>9.714450</td>\n",
       "      <td>8.071900</td>\n",
       "      <td>6.047447</td>\n",
       "      <td>4.347457</td>\n",
       "      <td>3.079931</td>\n",
       "      <td>2.098861</td>\n",
       "      <td>1.662958</td>\n",
       "      <td>0.565803</td>\n",
       "    </tr>\n",
       "    <tr>\n",
       "      <th>M</th>\n",
       "      <td>11.683182</td>\n",
       "      <td>11.471364</td>\n",
       "      <td>9.147557</td>\n",
       "      <td>6.506740</td>\n",
       "      <td>4.447089</td>\n",
       "      <td>2.924350</td>\n",
       "      <td>1.852419</td>\n",
       "      <td>1.347896</td>\n",
       "      <td>0.451726</td>\n",
       "    </tr>\n",
       "    <tr>\n",
       "      <th>U</th>\n",
       "      <td>0.990586</td>\n",
       "      <td>0.949770</td>\n",
       "      <td>0.766558</td>\n",
       "      <td>0.586670</td>\n",
       "      <td>0.446796</td>\n",
       "      <td>0.330654</td>\n",
       "      <td>0.237729</td>\n",
       "      <td>0.197315</td>\n",
       "      <td>0.070740</td>\n",
       "    </tr>\n",
       "  </tbody>\n",
       "</table>\n",
       "</div>"
      ],
      "text/plain": [
       "              age                                                     \\\n",
       "v_o_id         2          3         4         5         6         7    \n",
       "sex                                                                    \n",
       "F       10.002052   9.714450  8.071900  6.047447  4.347457  3.079931   \n",
       "M       11.683182  11.471364  9.147557  6.506740  4.447089  2.924350   \n",
       "U        0.990586   0.949770  0.766558  0.586670  0.446796  0.330654   \n",
       "\n",
       "                                      \n",
       "v_o_id        8         9         10  \n",
       "sex                                   \n",
       "F       2.098861  1.662958  0.565803  \n",
       "M       1.852419  1.347896  0.451726  \n",
       "U       0.237729  0.197315  0.070740  "
      ]
     },
     "execution_count": 91,
     "metadata": {},
     "output_type": "execute_result"
    }
   ],
   "source": [
    "rb1v = b1v/ b1v.sum().sum()*100\n",
    "rb1v"
   ]
  },
  {
   "cell_type": "code",
   "execution_count": 88,
   "metadata": {},
   "outputs": [
    {
     "data": {
      "text/plain": [
       "<Axes: title={'center': 'Age distri'}, xlabel='sex'>"
      ]
     },
     "execution_count": 88,
     "metadata": {},
     "output_type": "execute_result"
    },
    {
     "data": {
      "image/png": "[encoded data removed]",
      "text/plain": [
       "<Figure size 1000x600 with 1 Axes>"
      ]
     },
     "metadata": {},
     "output_type": "display_data"
    }
   ],
   "source": [
    "rb1v.plot(kind='bar', stacked=True, title='Age distri', figsize=(10, 6),color=plt.get_cmap('tab20c').colors)"
   ]
  },
  {
   "cell_type": "code",
   "execution_count": 60,
   "metadata": {},
   "outputs": [
    {
     "data": {
      "text/plain": [
       "<Axes: title={'center': 'Age distri'}, xlabel='sex'>"
      ]
     },
     "execution_count": 60,
     "metadata": {},
     "output_type": "execute_result"
    },
    {
     "data": {
      "image/png": "[encoded data removed]",
      "text/plain": [
       "<Figure size 1000x600 with 1 Axes>"
      ]
     },
     "metadata": {},
     "output_type": "display_data"
    }
   ],
   "source": [
    "b1v.plot(kind='bar', stacked=True, title='Age distri', figsize=(10, 6),color=plt.get_cmap('tab20c').colors)"
   ]
  },
  {
   "cell_type": "markdown",
   "metadata": {},
   "source": [
    "# sin duplicados\n"
   ]
  },
  {
   "cell_type": "code",
   "execution_count": 102,
   "metadata": {},
   "outputs": [
    {
     "name": "stderr",
     "output_type": "stream",
     "text": [
      "C:\\Users\\HP\\AppData\\Local\\Temp\\ipykernel_12500\\3185427753.py:7: FutureWarning: The default of observed=False is deprecated and will be changed to True in a future version of pandas. Pass observed=False to retain current behavior or observed=True to adopt the future default and silence this warning.\n",
      "  counts = df.groupby(s1)[\"sex\"].value_counts().unstack()\n"
     ]
    },
    {
     "data": {
      "text/html": [
       "<div>\n",
       "<style scoped>\n",
       "    .dataframe tbody tr th:only-of-type {\n",
       "        vertical-align: middle;\n",
       "    }\n",
       "\n",
       "    .dataframe tbody tr th {\n",
       "        vertical-align: top;\n",
       "    }\n",
       "\n",
       "    .dataframe thead th {\n",
       "        text-align: right;\n",
       "    }\n",
       "</style>\n",
       "<table border=\"1\" class=\"dataframe\">\n",
       "  <thead>\n",
       "    <tr style=\"text-align: right;\">\n",
       "      <th>sex</th>\n",
       "      <th>F</th>\n",
       "      <th>M</th>\n",
       "      <th>U</th>\n",
       "    </tr>\n",
       "    <tr>\n",
       "      <th>age</th>\n",
       "      <th></th>\n",
       "      <th></th>\n",
       "      <th></th>\n",
       "    </tr>\n",
       "  </thead>\n",
       "  <tbody>\n",
       "    <tr>\n",
       "      <th>0-15</th>\n",
       "      <td>2487</td>\n",
       "      <td>3380</td>\n",
       "      <td>523</td>\n",
       "    </tr>\n",
       "    <tr>\n",
       "      <th>15-30</th>\n",
       "      <td>9683</td>\n",
       "      <td>5595</td>\n",
       "      <td>754</td>\n",
       "    </tr>\n",
       "    <tr>\n",
       "      <th>30-45</th>\n",
       "      <td>39094</td>\n",
       "      <td>48244</td>\n",
       "      <td>4276</td>\n",
       "    </tr>\n",
       "    <tr>\n",
       "      <th>45-60</th>\n",
       "      <td>108890</td>\n",
       "      <td>141951</td>\n",
       "      <td>9823</td>\n",
       "    </tr>\n",
       "    <tr>\n",
       "      <th>60-75</th>\n",
       "      <td>152505</td>\n",
       "      <td>170018</td>\n",
       "      <td>17164</td>\n",
       "    </tr>\n",
       "    <tr>\n",
       "      <th>75-90</th>\n",
       "      <td>72583</td>\n",
       "      <td>63755</td>\n",
       "      <td>6709</td>\n",
       "    </tr>\n",
       "    <tr>\n",
       "      <th>90-105</th>\n",
       "      <td>2546</td>\n",
       "      <td>860</td>\n",
       "      <td>133</td>\n",
       "    </tr>\n",
       "    <tr>\n",
       "      <th>105-120</th>\n",
       "      <td>5</td>\n",
       "      <td>5</td>\n",
       "      <td>0</td>\n",
       "    </tr>\n",
       "  </tbody>\n",
       "</table>\n",
       "</div>"
      ],
      "text/plain": [
       "sex           F       M      U\n",
       "age                           \n",
       "0-15       2487    3380    523\n",
       "15-30      9683    5595    754\n",
       "30-45     39094   48244   4276\n",
       "45-60    108890  141951   9823\n",
       "60-75    152505  170018  17164\n",
       "75-90     72583   63755   6709\n",
       "90-105     2546     860    133\n",
       "105-120       5       5      0"
      ]
     },
     "execution_count": 102,
     "metadata": {},
     "output_type": "execute_result"
    }
   ],
   "source": [
    "#df.head(4)\n",
    "#df.age.plot(kind='hist', bins=20)\n",
    "bins = range(0, df['age'].max() + 15, 15)\n",
    "labels = [f'{i}-{i+15}' for i in bins[:-1]]\n",
    "s1 = pd.cut(df['age'], bins=bins, labels=labels, right=False)\n",
    "# counts = df.groupby(s1)[\"sex\"].size()\n",
    "counts = df.groupby(s1)[\"sex\"].value_counts().unstack()\n",
    "counts\n",
    "#counts.plot(kind='bar', stacked=True, title='Age distri', figsize=(10, 6))\n",
    "#s_num = df.sex.replace({'M':0, 'F':1 , 'U':2})\n",
    "#s2= pd.cut(s_num, bins=bins, labels=labels, right=False)\n",
    "#s1\n",
    "#df2 = pd.DataFrame({'age': s1, 'sex': s2});df2\n",
    "#g= df2.groupby([\"s2\",\"s1\"]).size()\n",
    "#g\n",
    "#df['age_group']= df['age_group'] /df['age_group'].sum()*100\n",
    "#gr2 = df.groupby(['age_group']).size().unstack()\n",
    "#df['age_group']\n",
    "#gr2.plot(kind='bar', title='Age distri',)\n",
    "#gr2\n",
    "\n",
    "#obesidad infantil\n",
    "#índice de masa corporal >30 diabetes infantil español\n",
    "# rangos 20 a 25 \n",
    "#sic sist info crónica de 15 en 15"
   ]
  },
  {
   "cell_type": "code",
   "execution_count": 103,
   "metadata": {},
   "outputs": [
    {
     "data": {
      "text/plain": [
       "<Axes: title={'center': 'Age distri'}, xlabel='age'>"
      ]
     },
     "execution_count": 103,
     "metadata": {},
     "output_type": "execute_result"
    },
    {
     "data": {
      "image/png": "[encoded data removed]",
      "text/plain": [
       "<Figure size 1000x600 with 1 Axes>"
      ]
     },
     "metadata": {},
     "output_type": "display_data"
    }
   ],
   "source": [
    "dfc = counts.reset_index()\n",
    "counts.plot(kind='bar', stacked=True, title='Age distri', figsize=(10, 6))\n"
   ]
  },
  {
   "cell_type": "code",
   "execution_count": 104,
   "metadata": {},
   "outputs": [
    {
     "name": "stderr",
     "output_type": "stream",
     "text": [
      "C:\\Users\\HP\\AppData\\Local\\Temp\\ipykernel_12500\\591876316.py:1: FutureWarning: The default of observed=False is deprecated and will be changed to True in a future version of pandas. Pass observed=False to retain current behavior or observed=True to adopt the future default and silence this warning.\n",
      "  relative_counts1 = counts.div(df.groupby(s1)[\"sex\"].count()/100, axis=0)\n"
     ]
    },
    {
     "data": {
      "text/html": [
       "<div>\n",
       "<style scoped>\n",
       "    .dataframe tbody tr th:only-of-type {\n",
       "        vertical-align: middle;\n",
       "    }\n",
       "\n",
       "    .dataframe tbody tr th {\n",
       "        vertical-align: top;\n",
       "    }\n",
       "\n",
       "    .dataframe thead th {\n",
       "        text-align: right;\n",
       "    }\n",
       "</style>\n",
       "<table border=\"1\" class=\"dataframe\">\n",
       "  <thead>\n",
       "    <tr style=\"text-align: right;\">\n",
       "      <th>sex</th>\n",
       "      <th>F</th>\n",
       "      <th>M</th>\n",
       "      <th>U</th>\n",
       "    </tr>\n",
       "    <tr>\n",
       "      <th>age</th>\n",
       "      <th></th>\n",
       "      <th></th>\n",
       "      <th></th>\n",
       "    </tr>\n",
       "  </thead>\n",
       "  <tbody>\n",
       "    <tr>\n",
       "      <th>0-15</th>\n",
       "      <td>38.920188</td>\n",
       "      <td>52.895149</td>\n",
       "      <td>8.184664</td>\n",
       "    </tr>\n",
       "    <tr>\n",
       "      <th>15-30</th>\n",
       "      <td>60.397954</td>\n",
       "      <td>34.898952</td>\n",
       "      <td>4.703094</td>\n",
       "    </tr>\n",
       "    <tr>\n",
       "      <th>30-45</th>\n",
       "      <td>42.672517</td>\n",
       "      <td>52.660074</td>\n",
       "      <td>4.667409</td>\n",
       "    </tr>\n",
       "    <tr>\n",
       "      <th>45-60</th>\n",
       "      <td>41.774085</td>\n",
       "      <td>54.457462</td>\n",
       "      <td>3.768453</td>\n",
       "    </tr>\n",
       "    <tr>\n",
       "      <th>60-75</th>\n",
       "      <td>44.895742</td>\n",
       "      <td>50.051371</td>\n",
       "      <td>5.052887</td>\n",
       "    </tr>\n",
       "    <tr>\n",
       "      <th>75-90</th>\n",
       "      <td>50.740666</td>\n",
       "      <td>44.569267</td>\n",
       "      <td>4.690067</td>\n",
       "    </tr>\n",
       "    <tr>\n",
       "      <th>90-105</th>\n",
       "      <td>71.941226</td>\n",
       "      <td>24.300650</td>\n",
       "      <td>3.758124</td>\n",
       "    </tr>\n",
       "    <tr>\n",
       "      <th>105-120</th>\n",
       "      <td>50.000000</td>\n",
       "      <td>50.000000</td>\n",
       "      <td>0.000000</td>\n",
       "    </tr>\n",
       "  </tbody>\n",
       "</table>\n",
       "</div>"
      ],
      "text/plain": [
       "sex              F          M         U\n",
       "age                                    \n",
       "0-15     38.920188  52.895149  8.184664\n",
       "15-30    60.397954  34.898952  4.703094\n",
       "30-45    42.672517  52.660074  4.667409\n",
       "45-60    41.774085  54.457462  3.768453\n",
       "60-75    44.895742  50.051371  5.052887\n",
       "75-90    50.740666  44.569267  4.690067\n",
       "90-105   71.941226  24.300650  3.758124\n",
       "105-120  50.000000  50.000000  0.000000"
      ]
     },
     "execution_count": 104,
     "metadata": {},
     "output_type": "execute_result"
    }
   ],
   "source": [
    "relative_counts1 = counts.div(df.groupby(s1)[\"sex\"].count()/100, axis=0)\n",
    "relative_counts1\n"
   ]
  },
  {
   "cell_type": "code",
   "execution_count": 105,
   "metadata": {},
   "outputs": [
    {
     "data": {
      "text/plain": [
       "<Axes: title={'center': ' Relative Age distri'}, xlabel='age'>"
      ]
     },
     "execution_count": 105,
     "metadata": {},
     "output_type": "execute_result"
    },
    {
     "data": {
      "image/png": "[encoded data removed]",
      "text/plain": [
       "<Figure size 1000x600 with 1 Axes>"
      ]
     },
     "metadata": {},
     "output_type": "display_data"
    }
   ],
   "source": [
    "relative_counts1.plot(kind='bar', stacked=True, title=' Relative Age distri', figsize=(10, 6))"
   ]
  },
  {
   "cell_type": "code",
   "execution_count": 106,
   "metadata": {},
   "outputs": [
    {
     "data": {
      "text/html": [
       "<div>\n",
       "<style scoped>\n",
       "    .dataframe tbody tr th:only-of-type {\n",
       "        vertical-align: middle;\n",
       "    }\n",
       "\n",
       "    .dataframe tbody tr th {\n",
       "        vertical-align: top;\n",
       "    }\n",
       "\n",
       "    .dataframe thead th {\n",
       "        text-align: right;\n",
       "    }\n",
       "</style>\n",
       "<table border=\"1\" class=\"dataframe\">\n",
       "  <thead>\n",
       "    <tr style=\"text-align: right;\">\n",
       "      <th>age</th>\n",
       "      <th>0-15</th>\n",
       "      <th>15-30</th>\n",
       "      <th>30-45</th>\n",
       "      <th>45-60</th>\n",
       "      <th>60-75</th>\n",
       "      <th>75-90</th>\n",
       "      <th>90-105</th>\n",
       "      <th>105-120</th>\n",
       "    </tr>\n",
       "    <tr>\n",
       "      <th>sex</th>\n",
       "      <th></th>\n",
       "      <th></th>\n",
       "      <th></th>\n",
       "      <th></th>\n",
       "      <th></th>\n",
       "      <th></th>\n",
       "      <th></th>\n",
       "      <th></th>\n",
       "    </tr>\n",
       "  </thead>\n",
       "  <tbody>\n",
       "    <tr>\n",
       "      <th>F</th>\n",
       "      <td>0.006413</td>\n",
       "      <td>0.024970</td>\n",
       "      <td>0.100812</td>\n",
       "      <td>0.280794</td>\n",
       "      <td>0.393264</td>\n",
       "      <td>0.187169</td>\n",
       "      <td>0.006565</td>\n",
       "      <td>0.000013</td>\n",
       "    </tr>\n",
       "    <tr>\n",
       "      <th>M</th>\n",
       "      <td>0.007791</td>\n",
       "      <td>0.012897</td>\n",
       "      <td>0.111210</td>\n",
       "      <td>0.327221</td>\n",
       "      <td>0.391920</td>\n",
       "      <td>0.146966</td>\n",
       "      <td>0.001982</td>\n",
       "      <td>0.000012</td>\n",
       "    </tr>\n",
       "    <tr>\n",
       "      <th>U</th>\n",
       "      <td>0.013280</td>\n",
       "      <td>0.019146</td>\n",
       "      <td>0.108578</td>\n",
       "      <td>0.249429</td>\n",
       "      <td>0.435834</td>\n",
       "      <td>0.170357</td>\n",
       "      <td>0.003377</td>\n",
       "      <td>0.000000</td>\n",
       "    </tr>\n",
       "  </tbody>\n",
       "</table>\n",
       "</div>"
      ],
      "text/plain": [
       "age      0-15     15-30     30-45     45-60     60-75     75-90    90-105  \\\n",
       "sex                                                                         \n",
       "F    0.006413  0.024970  0.100812  0.280794  0.393264  0.187169  0.006565   \n",
       "M    0.007791  0.012897  0.111210  0.327221  0.391920  0.146966  0.001982   \n",
       "U    0.013280  0.019146  0.108578  0.249429  0.435834  0.170357  0.003377   \n",
       "\n",
       "age   105-120  \n",
       "sex            \n",
       "F    0.000013  \n",
       "M    0.000012  \n",
       "U    0.000000  "
      ]
     },
     "execution_count": 106,
     "metadata": {},
     "output_type": "execute_result"
    }
   ],
   "source": [
    "#relative_counts2 = counts.div(df.groupby(s1)[\"sex\"].count(), axis=1)\n",
    "relative_counts2 = counts.div(counts.sum(axis=0), axis=1).T\n",
    "relative_counts2"
   ]
  },
  {
   "cell_type": "code",
   "execution_count": 107,
   "metadata": {},
   "outputs": [
    {
     "data": {
      "text/plain": [
       "<Axes: title={'center': 'Age distri'}, xlabel='sex'>"
      ]
     },
     "execution_count": 107,
     "metadata": {},
     "output_type": "execute_result"
    },
    {
     "data": {
      "image/png": "[encoded data removed]",
      "text/plain": [
       "<Figure size 1000x600 with 1 Axes>"
      ]
     },
     "metadata": {},
     "output_type": "display_data"
    }
   ],
   "source": [
    "relative_counts2.plot(kind='bar', stacked=True, title='Age distri', figsize=(10, 6))"
   ]
  },
  {
   "cell_type": "code",
   "execution_count": 117,
   "metadata": {},
   "outputs": [
    {
     "data": {
      "text/html": [
       "<div>\n",
       "<style scoped>\n",
       "    .dataframe tbody tr th:only-of-type {\n",
       "        vertical-align: middle;\n",
       "    }\n",
       "\n",
       "    .dataframe tbody tr th {\n",
       "        vertical-align: top;\n",
       "    }\n",
       "\n",
       "    .dataframe thead th {\n",
       "        text-align: right;\n",
       "    }\n",
       "</style>\n",
       "<table border=\"1\" class=\"dataframe\">\n",
       "  <thead>\n",
       "    <tr style=\"text-align: right;\">\n",
       "      <th></th>\n",
       "    </tr>\n",
       "  </thead>\n",
       "  <tbody>\n",
       "    <tr>\n",
       "      <th>0</th>\n",
       "    </tr>\n",
       "    <tr>\n",
       "      <th>5</th>\n",
       "    </tr>\n",
       "    <tr>\n",
       "      <th>11</th>\n",
       "    </tr>\n",
       "    <tr>\n",
       "      <th>15</th>\n",
       "    </tr>\n",
       "    <tr>\n",
       "      <th>21</th>\n",
       "    </tr>\n",
       "    <tr>\n",
       "      <th>...</th>\n",
       "    </tr>\n",
       "    <tr>\n",
       "      <th>2100985</th>\n",
       "    </tr>\n",
       "    <tr>\n",
       "      <th>2100986</th>\n",
       "    </tr>\n",
       "    <tr>\n",
       "      <th>2100987</th>\n",
       "    </tr>\n",
       "    <tr>\n",
       "      <th>2100988</th>\n",
       "    </tr>\n",
       "    <tr>\n",
       "      <th>2100989</th>\n",
       "    </tr>\n",
       "  </tbody>\n",
       "</table>\n",
       "<p>860983 rows × 0 columns</p>\n",
       "</div>"
      ],
      "text/plain": [
       "Empty DataFrame\n",
       "Columns: []\n",
       "Index: [0, 5, 11, 15, 21, 27, 32, 35, 41, 45, 52, 57, 61, 64, 66, 69, 74, 79, 81, 84, 88, 91, 94, 96, 99, 105, 109, 111, 115, 119, 125, 127, 131, 136, 140, 144, 147, 152, 156, 159, 163, 165, 167, 169, 171, 175, 177, 179, 183, 184, 188, 190, 193, 196, 198, 201, 205, 208, 212, 217, 219, 222, 226, 227, 230, 234, 239, 243, 246, 250, 251, 255, 259, 264, 269, 271, 274, 275, 276, 277, 282, 286, 289, 292, 295, 299, 302, 304, 305, 307, 310, 311, 312, 316, 319, 320, 322, 325, 328, 332, ...]\n",
       "\n",
       "[860983 rows x 0 columns]"
      ]
     },
     "execution_count": 117,
     "metadata": {},
     "output_type": "execute_result"
    }
   ],
   "source": [
    "#df.columns[4:]\n",
    "df3 = df.iloc[:,4:]\n",
    "df3\n",
    "#df3 = df3.fillna(0)\n"
   ]
  },
  {
   "cell_type": "markdown",
   "metadata": {},
   "source": [
    "# Apriori sin duplicados"
   ]
  },
  {
   "cell_type": "code",
   "execution_count": 126,
   "metadata": {},
   "outputs": [],
   "source": [
    "df3 = df.iloc[:,4:]\n",
    "df3 = df3.fillna(0)\n",
    "A = apriori(df3, min_support=0.5,use_colnames=True);A"
   ]
  },
  {
   "cell_type": "code",
   "execution_count": 128,
   "metadata": {},
   "outputs": [
    {
     "name": "stderr",
     "output_type": "stream",
     "text": [
      "c:\\Users\\HP\\miniconda3\\envs\\ds\\Lib\\site-packages\\mlxtend\\frequent_patterns\\fpcommon.py:109: DeprecationWarning: DataFrames with non-bool types result in worse computationalperformance and their support might be discontinued in the future.Please use a DataFrame with bool type\n",
      "  warnings.warn(\n"
     ]
    },
    {
     "data": {
      "text/html": [
       "<div>\n",
       "<style scoped>\n",
       "    .dataframe tbody tr th:only-of-type {\n",
       "        vertical-align: middle;\n",
       "    }\n",
       "\n",
       "    .dataframe tbody tr th {\n",
       "        vertical-align: top;\n",
       "    }\n",
       "\n",
       "    .dataframe thead th {\n",
       "        text-align: right;\n",
       "    }\n",
       "</style>\n",
       "<table border=\"1\" class=\"dataframe\">\n",
       "  <thead>\n",
       "    <tr style=\"text-align: right;\">\n",
       "      <th></th>\n",
       "      <th>support</th>\n",
       "      <th>itemsets</th>\n",
       "    </tr>\n",
       "  </thead>\n",
       "  <tbody>\n",
       "    <tr>\n",
       "      <th>0</th>\n",
       "      <td>0.430122</td>\n",
       "      <td>(E10-E14)</td>\n",
       "    </tr>\n",
       "    <tr>\n",
       "      <th>1</th>\n",
       "      <td>0.317243</td>\n",
       "      <td>(I10-I15)</td>\n",
       "    </tr>\n",
       "  </tbody>\n",
       "</table>\n",
       "</div>"
      ],
      "text/plain": [
       "    support   itemsets\n",
       "0  0.430122  (E10-E14)\n",
       "1  0.317243  (I10-I15)"
      ]
     },
     "execution_count": 128,
     "metadata": {},
     "output_type": "execute_result"
    }
   ],
   "source": [
    "apriori(df3, min_support=0.3,use_colnames=True)"
   ]
  },
  {
   "cell_type": "code",
   "execution_count": 129,
   "metadata": {},
   "outputs": [
    {
     "name": "stderr",
     "output_type": "stream",
     "text": [
      "c:\\Users\\HP\\miniconda3\\envs\\ds\\Lib\\site-packages\\mlxtend\\frequent_patterns\\fpcommon.py:109: DeprecationWarning: DataFrames with non-bool types result in worse computationalperformance and their support might be discontinued in the future.Please use a DataFrame with bool type\n",
      "  warnings.warn(\n"
     ]
    },
    {
     "data": {
      "text/html": [
       "<div>\n",
       "<style scoped>\n",
       "    .dataframe tbody tr th:only-of-type {\n",
       "        vertical-align: middle;\n",
       "    }\n",
       "\n",
       "    .dataframe tbody tr th {\n",
       "        vertical-align: top;\n",
       "    }\n",
       "\n",
       "    .dataframe thead th {\n",
       "        text-align: right;\n",
       "    }\n",
       "</style>\n",
       "<table border=\"1\" class=\"dataframe\">\n",
       "  <thead>\n",
       "    <tr style=\"text-align: right;\">\n",
       "      <th></th>\n",
       "      <th>support</th>\n",
       "      <th>itemsets</th>\n",
       "    </tr>\n",
       "  </thead>\n",
       "  <tbody>\n",
       "    <tr>\n",
       "      <th>0</th>\n",
       "      <td>0.430122</td>\n",
       "      <td>(E10-E14)</td>\n",
       "    </tr>\n",
       "    <tr>\n",
       "      <th>1</th>\n",
       "      <td>0.317243</td>\n",
       "      <td>(I10-I15)</td>\n",
       "    </tr>\n",
       "    <tr>\n",
       "      <th>2</th>\n",
       "      <td>0.199436</td>\n",
       "      <td>(E78)</td>\n",
       "    </tr>\n",
       "    <tr>\n",
       "      <th>3</th>\n",
       "      <td>0.143381</td>\n",
       "      <td>(M15-M19)</td>\n",
       "    </tr>\n",
       "    <tr>\n",
       "      <th>4</th>\n",
       "      <td>0.104576</td>\n",
       "      <td>(E10-E14, I10-I15)</td>\n",
       "    </tr>\n",
       "  </tbody>\n",
       "</table>\n",
       "</div>"
      ],
      "text/plain": [
       "    support            itemsets\n",
       "0  0.430122           (E10-E14)\n",
       "1  0.317243           (I10-I15)\n",
       "2  0.199436               (E78)\n",
       "3  0.143381           (M15-M19)\n",
       "4  0.104576  (E10-E14, I10-I15)"
      ]
     },
     "execution_count": 129,
     "metadata": {},
     "output_type": "execute_result"
    }
   ],
   "source": [
    "A2 = apriori(df3, min_support=0.1,use_colnames=True);A2.sort_values(\"support\",ascending=False)"
   ]
  },
  {
   "cell_type": "code",
   "execution_count": 130,
   "metadata": {},
   "outputs": [
    {
     "data": {
      "text/html": [
       "<div>\n",
       "<style scoped>\n",
       "    .dataframe tbody tr th:only-of-type {\n",
       "        vertical-align: middle;\n",
       "    }\n",
       "\n",
       "    .dataframe tbody tr th {\n",
       "        vertical-align: top;\n",
       "    }\n",
       "\n",
       "    .dataframe thead th {\n",
       "        text-align: right;\n",
       "    }\n",
       "</style>\n",
       "<table border=\"1\" class=\"dataframe\">\n",
       "  <thead>\n",
       "    <tr style=\"text-align: right;\">\n",
       "      <th></th>\n",
       "      <th>antecedents</th>\n",
       "      <th>consequents</th>\n",
       "      <th>antecedent support</th>\n",
       "      <th>consequent support</th>\n",
       "      <th>support</th>\n",
       "      <th>confidence</th>\n",
       "      <th>lift</th>\n",
       "      <th>leverage</th>\n",
       "      <th>conviction</th>\n",
       "      <th>zhangs_metric</th>\n",
       "    </tr>\n",
       "  </thead>\n",
       "  <tbody>\n",
       "  </tbody>\n",
       "</table>\n",
       "</div>"
      ],
      "text/plain": [
       "Empty DataFrame\n",
       "Columns: [antecedents, consequents, antecedent support, consequent support, support, confidence, lift, leverage, conviction, zhangs_metric]\n",
       "Index: []"
      ]
     },
     "execution_count": 130,
     "metadata": {},
     "output_type": "execute_result"
    }
   ],
   "source": [
    "rules = association_rules(A2,min_threshold=.4); \n",
    "rules =rules.sort_values(\"lift\",ascending=False)\n",
    "rules"
   ]
  },
  {
   "cell_type": "code",
   "execution_count": 122,
   "metadata": {},
   "outputs": [
    {
     "data": {
      "text/html": [
       "<div>\n",
       "<style scoped>\n",
       "    .dataframe tbody tr th:only-of-type {\n",
       "        vertical-align: middle;\n",
       "    }\n",
       "\n",
       "    .dataframe tbody tr th {\n",
       "        vertical-align: top;\n",
       "    }\n",
       "\n",
       "    .dataframe thead th {\n",
       "        text-align: right;\n",
       "    }\n",
       "</style>\n",
       "<table border=\"1\" class=\"dataframe\">\n",
       "  <thead>\n",
       "    <tr style=\"text-align: right;\">\n",
       "      <th></th>\n",
       "      <th>antecedents</th>\n",
       "      <th>consequents</th>\n",
       "      <th>antecedent support</th>\n",
       "      <th>consequent support</th>\n",
       "      <th>support</th>\n",
       "      <th>confidence</th>\n",
       "      <th>lift</th>\n",
       "      <th>leverage</th>\n",
       "      <th>conviction</th>\n",
       "      <th>zhangs_metric</th>\n",
       "    </tr>\n",
       "  </thead>\n",
       "  <tbody>\n",
       "    <tr>\n",
       "      <th>4</th>\n",
       "      <td>(E10-E14)</td>\n",
       "      <td>(I10-I15)</td>\n",
       "      <td>0.601853</td>\n",
       "      <td>0.488669</td>\n",
       "      <td>0.304986</td>\n",
       "      <td>0.506745</td>\n",
       "      <td>1.036990</td>\n",
       "      <td>0.010879</td>\n",
       "      <td>1.036646</td>\n",
       "      <td>0.089591</td>\n",
       "    </tr>\n",
       "    <tr>\n",
       "      <th>5</th>\n",
       "      <td>(I10-I15)</td>\n",
       "      <td>(E10-E14)</td>\n",
       "      <td>0.488669</td>\n",
       "      <td>0.601853</td>\n",
       "      <td>0.304986</td>\n",
       "      <td>0.624116</td>\n",
       "      <td>1.036990</td>\n",
       "      <td>0.010879</td>\n",
       "      <td>1.059227</td>\n",
       "      <td>0.069760</td>\n",
       "    </tr>\n",
       "    <tr>\n",
       "      <th>6</th>\n",
       "      <td>(E78)</td>\n",
       "      <td>(E10-E14)</td>\n",
       "      <td>0.367579</td>\n",
       "      <td>0.601853</td>\n",
       "      <td>0.233307</td>\n",
       "      <td>0.634712</td>\n",
       "      <td>1.054595</td>\n",
       "      <td>0.012078</td>\n",
       "      <td>1.089951</td>\n",
       "      <td>0.081858</td>\n",
       "    </tr>\n",
       "    <tr>\n",
       "      <th>8</th>\n",
       "      <td>(E78)</td>\n",
       "      <td>(I10-I15)</td>\n",
       "      <td>0.367579</td>\n",
       "      <td>0.488669</td>\n",
       "      <td>0.194623</td>\n",
       "      <td>0.529471</td>\n",
       "      <td>1.083496</td>\n",
       "      <td>0.014998</td>\n",
       "      <td>1.086715</td>\n",
       "      <td>0.121852</td>\n",
       "    </tr>\n",
       "    <tr>\n",
       "      <th>7</th>\n",
       "      <td>(M15-M19)</td>\n",
       "      <td>(E10-E14)</td>\n",
       "      <td>0.312242</td>\n",
       "      <td>0.601853</td>\n",
       "      <td>0.199518</td>\n",
       "      <td>0.638986</td>\n",
       "      <td>1.061698</td>\n",
       "      <td>0.011595</td>\n",
       "      <td>1.102858</td>\n",
       "      <td>0.084495</td>\n",
       "    </tr>\n",
       "    <tr>\n",
       "      <th>10</th>\n",
       "      <td>(M15-M19)</td>\n",
       "      <td>(E78)</td>\n",
       "      <td>0.312242</td>\n",
       "      <td>0.367579</td>\n",
       "      <td>0.135838</td>\n",
       "      <td>0.435041</td>\n",
       "      <td>1.183529</td>\n",
       "      <td>0.021064</td>\n",
       "      <td>1.119409</td>\n",
       "      <td>0.225471</td>\n",
       "    </tr>\n",
       "    <tr>\n",
       "      <th>9</th>\n",
       "      <td>(M15-M19)</td>\n",
       "      <td>(I10-I15)</td>\n",
       "      <td>0.312242</td>\n",
       "      <td>0.488669</td>\n",
       "      <td>0.173770</td>\n",
       "      <td>0.556522</td>\n",
       "      <td>1.138853</td>\n",
       "      <td>0.021187</td>\n",
       "      <td>1.153002</td>\n",
       "      <td>0.177276</td>\n",
       "    </tr>\n",
       "    <tr>\n",
       "      <th>13</th>\n",
       "      <td>(E10-E14, I10-I15)</td>\n",
       "      <td>(E78)</td>\n",
       "      <td>0.304986</td>\n",
       "      <td>0.367579</td>\n",
       "      <td>0.136389</td>\n",
       "      <td>0.447196</td>\n",
       "      <td>1.216598</td>\n",
       "      <td>0.024282</td>\n",
       "      <td>1.144023</td>\n",
       "      <td>0.256161</td>\n",
       "    </tr>\n",
       "    <tr>\n",
       "      <th>16</th>\n",
       "      <td>(E10-E14, I10-I15)</td>\n",
       "      <td>(M15-M19)</td>\n",
       "      <td>0.304986</td>\n",
       "      <td>0.312242</td>\n",
       "      <td>0.122145</td>\n",
       "      <td>0.400494</td>\n",
       "      <td>1.282642</td>\n",
       "      <td>0.026916</td>\n",
       "      <td>1.147209</td>\n",
       "      <td>0.317057</td>\n",
       "    </tr>\n",
       "    <tr>\n",
       "      <th>11</th>\n",
       "      <td>(E78, E10-E14)</td>\n",
       "      <td>(I10-I15)</td>\n",
       "      <td>0.233307</td>\n",
       "      <td>0.488669</td>\n",
       "      <td>0.136389</td>\n",
       "      <td>0.584589</td>\n",
       "      <td>1.196288</td>\n",
       "      <td>0.022379</td>\n",
       "      <td>1.230904</td>\n",
       "      <td>0.214011</td>\n",
       "    </tr>\n",
       "    <tr>\n",
       "      <th>14</th>\n",
       "      <td>(M15-M19, E10-E14)</td>\n",
       "      <td>(I10-I15)</td>\n",
       "      <td>0.199518</td>\n",
       "      <td>0.488669</td>\n",
       "      <td>0.122145</td>\n",
       "      <td>0.612201</td>\n",
       "      <td>1.252792</td>\n",
       "      <td>0.024647</td>\n",
       "      <td>1.318545</td>\n",
       "      <td>0.252077</td>\n",
       "    </tr>\n",
       "    <tr>\n",
       "      <th>0</th>\n",
       "      <td>(F40-F41)</td>\n",
       "      <td>(E10-E14)</td>\n",
       "      <td>0.198693</td>\n",
       "      <td>0.601853</td>\n",
       "      <td>0.122485</td>\n",
       "      <td>0.616450</td>\n",
       "      <td>1.024253</td>\n",
       "      <td>0.002900</td>\n",
       "      <td>1.038057</td>\n",
       "      <td>0.029550</td>\n",
       "    </tr>\n",
       "    <tr>\n",
       "      <th>1</th>\n",
       "      <td>(F40-F41)</td>\n",
       "      <td>(I10-I15)</td>\n",
       "      <td>0.198693</td>\n",
       "      <td>0.488669</td>\n",
       "      <td>0.102015</td>\n",
       "      <td>0.513430</td>\n",
       "      <td>1.050670</td>\n",
       "      <td>0.004920</td>\n",
       "      <td>1.050889</td>\n",
       "      <td>0.060185</td>\n",
       "    </tr>\n",
       "    <tr>\n",
       "      <th>12</th>\n",
       "      <td>(E78, I10-I15)</td>\n",
       "      <td>(E10-E14)</td>\n",
       "      <td>0.194623</td>\n",
       "      <td>0.601853</td>\n",
       "      <td>0.136389</td>\n",
       "      <td>0.700785</td>\n",
       "      <td>1.164378</td>\n",
       "      <td>0.019254</td>\n",
       "      <td>1.330637</td>\n",
       "      <td>0.175287</td>\n",
       "    </tr>\n",
       "    <tr>\n",
       "      <th>15</th>\n",
       "      <td>(M15-M19, I10-I15)</td>\n",
       "      <td>(E10-E14)</td>\n",
       "      <td>0.173770</td>\n",
       "      <td>0.601853</td>\n",
       "      <td>0.122145</td>\n",
       "      <td>0.702915</td>\n",
       "      <td>1.167918</td>\n",
       "      <td>0.017562</td>\n",
       "      <td>1.340179</td>\n",
       "      <td>0.174014</td>\n",
       "    </tr>\n",
       "    <tr>\n",
       "      <th>2</th>\n",
       "      <td>(pred1y_I20-I25)</td>\n",
       "      <td>(I20-I25)</td>\n",
       "      <td>0.115914</td>\n",
       "      <td>0.105908</td>\n",
       "      <td>0.105908</td>\n",
       "      <td>0.913675</td>\n",
       "      <td>8.627091</td>\n",
       "      <td>0.093632</td>\n",
       "      <td>10.357317</td>\n",
       "      <td>1.000000</td>\n",
       "    </tr>\n",
       "    <tr>\n",
       "      <th>3</th>\n",
       "      <td>(I20-I25)</td>\n",
       "      <td>(pred1y_I20-I25)</td>\n",
       "      <td>0.105908</td>\n",
       "      <td>0.115914</td>\n",
       "      <td>0.105908</td>\n",
       "      <td>1.000000</td>\n",
       "      <td>8.627091</td>\n",
       "      <td>0.093632</td>\n",
       "      <td>inf</td>\n",
       "      <td>0.988808</td>\n",
       "    </tr>\n",
       "  </tbody>\n",
       "</table>\n",
       "</div>"
      ],
      "text/plain": [
       "           antecedents       consequents  antecedent support  \\\n",
       "4            (E10-E14)         (I10-I15)            0.601853   \n",
       "5            (I10-I15)         (E10-E14)            0.488669   \n",
       "6                (E78)         (E10-E14)            0.367579   \n",
       "8                (E78)         (I10-I15)            0.367579   \n",
       "7            (M15-M19)         (E10-E14)            0.312242   \n",
       "10           (M15-M19)             (E78)            0.312242   \n",
       "9            (M15-M19)         (I10-I15)            0.312242   \n",
       "13  (E10-E14, I10-I15)             (E78)            0.304986   \n",
       "16  (E10-E14, I10-I15)         (M15-M19)            0.304986   \n",
       "11      (E78, E10-E14)         (I10-I15)            0.233307   \n",
       "14  (M15-M19, E10-E14)         (I10-I15)            0.199518   \n",
       "0            (F40-F41)         (E10-E14)            0.198693   \n",
       "1            (F40-F41)         (I10-I15)            0.198693   \n",
       "12      (E78, I10-I15)         (E10-E14)            0.194623   \n",
       "15  (M15-M19, I10-I15)         (E10-E14)            0.173770   \n",
       "2     (pred1y_I20-I25)         (I20-I25)            0.115914   \n",
       "3            (I20-I25)  (pred1y_I20-I25)            0.105908   \n",
       "\n",
       "    consequent support   support  confidence      lift  leverage  conviction  \\\n",
       "4             0.488669  0.304986    0.506745  1.036990  0.010879    1.036646   \n",
       "5             0.601853  0.304986    0.624116  1.036990  0.010879    1.059227   \n",
       "6             0.601853  0.233307    0.634712  1.054595  0.012078    1.089951   \n",
       "8             0.488669  0.194623    0.529471  1.083496  0.014998    1.086715   \n",
       "7             0.601853  0.199518    0.638986  1.061698  0.011595    1.102858   \n",
       "10            0.367579  0.135838    0.435041  1.183529  0.021064    1.119409   \n",
       "9             0.488669  0.173770    0.556522  1.138853  0.021187    1.153002   \n",
       "13            0.367579  0.136389    0.447196  1.216598  0.024282    1.144023   \n",
       "16            0.312242  0.122145    0.400494  1.282642  0.026916    1.147209   \n",
       "11            0.488669  0.136389    0.584589  1.196288  0.022379    1.230904   \n",
       "14            0.488669  0.122145    0.612201  1.252792  0.024647    1.318545   \n",
       "0             0.601853  0.122485    0.616450  1.024253  0.002900    1.038057   \n",
       "1             0.488669  0.102015    0.513430  1.050670  0.004920    1.050889   \n",
       "12            0.601853  0.136389    0.700785  1.164378  0.019254    1.330637   \n",
       "15            0.601853  0.122145    0.702915  1.167918  0.017562    1.340179   \n",
       "2             0.105908  0.105908    0.913675  8.627091  0.093632   10.357317   \n",
       "3             0.115914  0.105908    1.000000  8.627091  0.093632         inf   \n",
       "\n",
       "    zhangs_metric  \n",
       "4        0.089591  \n",
       "5        0.069760  \n",
       "6        0.081858  \n",
       "8        0.121852  \n",
       "7        0.084495  \n",
       "10       0.225471  \n",
       "9        0.177276  \n",
       "13       0.256161  \n",
       "16       0.317057  \n",
       "11       0.214011  \n",
       "14       0.252077  \n",
       "0        0.029550  \n",
       "1        0.060185  \n",
       "12       0.175287  \n",
       "15       0.174014  \n",
       "2        1.000000  \n",
       "3        0.988808  "
      ]
     },
     "execution_count": 122,
     "metadata": {},
     "output_type": "execute_result"
    }
   ],
   "source": [
    "rules.sort_values(by=[\"antecedent support\",\"consequents\"],ascending=[False,False])\n"
   ]
  },
  {
   "cell_type": "markdown",
   "metadata": {},
   "source": []
  },
  {
   "cell_type": "markdown",
   "metadata": {},
   "source": [
    "# A visi1-3"
   ]
  },
  {
   "cell_type": "code",
   "execution_count": 11,
   "metadata": {},
   "outputs": [
    {
     "name": "stderr",
     "output_type": "stream",
     "text": [
      "/home/sistemas/miniconda3/envs/ds/lib/python3.10/site-packages/mlxtend/frequent_patterns/fpcommon.py:109: DeprecationWarning: DataFrames with non-bool types result in worse computationalperformance and their support might be discontinued in the future.Please use a DataFrame with bool type\n",
      "  warnings.warn(\n"
     ]
    },
    {
     "ename": "",
     "evalue": "",
     "output_type": "error",
     "traceback": [
      "\u001b[1;31mThe Kernel crashed while executing code in the current cell or a previous cell. \n",
      "\u001b[1;31mPlease review the code in the cell(s) to identify a possible cause of the failure. \n",
      "\u001b[1;31mClick <a href='https://aka.ms/vscodeJupyterKernelCrash'>here</a> for more info. \n",
      "\u001b[1;31mView Jupyter <a href='command:jupyter.viewOutput'>log</a> for further details."
     ]
    }
   ],
   "source": [
    "v13 = dfc[(dfc['v_o_id']>0) & (dfc['v_o_id'] <=3)]\n",
    "#bloque1_visitas= df[(df['v_o_id'] >1) & (df['v_o_id'] <=10)]\n",
    "#bloque1_visitas\n",
    "a1 = apriori(v13, min_support=0.1,use_colnames=True)\n",
    "a1.sort_values(\"support\",ascending=False)\n",
    "\n"
   ]
  },
  {
   "cell_type": "code",
   "execution_count": null,
   "metadata": {},
   "outputs": [],
   "source": [
    "rules = association_rules(a1,min_threshold=.4); \n",
    "rules.sort_values(by=[\"antecedent support\",\"consequents\"],ascending=[False,False])"
   ]
  }
 ],
 "metadata": {
  "kernelspec": {
   "display_name": "ds",
   "language": "python",
   "name": "python3"
  },
  "language_info": {
   "codemirror_mode": {
    "name": "ipython",
    "version": 3
   },
   "file_extension": ".py",
   "mimetype": "text/x-python",
   "name": "python",
   "nbconvert_exporter": "python",
   "pygments_lexer": "ipython3",
   "version": "3.10.13"
  }
 },
 "nbformat": 4,
 "nbformat_minor": 2
}
